{
 "cells": [
  {
   "cell_type": "markdown",
   "metadata": {},
   "source": [
    "<img align=\"right\" width=\"240\" height=\"240\" src=\"img/HS_Mu__nchen_Logo.png\"/>"
   ]
  },
  {
   "cell_type": "markdown",
   "metadata": {},
   "source": [
    "<style>\n",
    "p.small {\n",
    "  line-height: 1;\n",
    "}\n",
    "</style>\n",
    "<body>\n",
    "    \n",
    "<p class=\"small\"> <b>Geoinformatics | Course Remote Sensing (1)</b><br> <small>Schmitt | Ulloa</small><br> <small>Summer Semester 2020</small><br></p>"
   ]
  },
  {
   "cell_type": "markdown",
   "metadata": {},
   "source": [
    "<h1>Practice 3: Creation of training areas</h1>"
   ]
  },
  {
   "cell_type": "markdown",
   "metadata": {},
   "source": [
    "<h2>Overview</h2>"
   ]
  },
  {
   "cell_type": "markdown",
   "metadata": {},
   "source": [
    "<p><b>Objective:</b> Creation of training polygons to train a supervised classification model<p/>\n",
    "\n",
    "<p><b>Data:</b> For this practice, use the following files: </p>\n",
    "<ul>\n",
    "    <li> Vector file: Shapefile (AOIs.shp, id_1.shp, id_2.shp, id_3.shp and associated files)</li> \n",
    "    <li> Raster file: S2A_L2A_T32UPU_rasterstack.tif, S2A_L2A_T32UPU_TCI.tif</li>\n",
    "    <li> Reference data: DOP20 Ortophotos (id_1.tif, id_2.tif, id_3.tif)</li>\n",
    "</ul>\n",
    "\n",
    "<p><b>Tasks:</b> Create training polygons for the following classes:<p/> \n",
    "\n",
    "<ul>\n",
    "    <li> Water</li> \n",
    "    <li> Forest: conifers or deciduous</li> \n",
    "    <li> Grassland</li> \n",
    "    <li> Agriculture</li> \n",
    "    <li> Urban</li> \n",
    "</ul>\n",
    "\n",
    "<p>Use the assigned AOI as a working area, and the ortophotos as reference data</p>"
   ]
  },
  {
   "cell_type": "markdown",
   "metadata": {},
   "source": [
    "<h2>Procedure</h2>"
   ]
  },
  {
   "cell_type": "markdown",
   "metadata": {},
   "source": [
    "<h3>Load raster and vector files</h3>\n",
    "\n",
    "<p>1. Load the rasters \"S2A_L2A_T32UPU_rasterstack.tif\" and \"S2A_L2A_T32UPU_TCI.tif\" on QGIS. What are the differences of both files in terms of number of bands, pixel size, pixel resolution, and pixel values?</p>"
   ]
  },
  {
   "cell_type": "markdown",
   "metadata": {},
   "source": [
    "<p>2. For this practice you will work with a Sentinel-2 \"Bottom of Atmosphere\" product. To which processing level corresponds this?</p>"
   ]
  },
  {
   "cell_type": "markdown",
   "metadata": {},
   "source": [
    "<p>3. Open the ortophoto provided for your area in QGIS. Do you notice the difference with the Sentinel 2 image? What is the spatial resolution of this image? </p>"
   ]
  },
  {
   "cell_type": "markdown",
   "metadata": {},
   "source": [
    "<p>4. Finally, load the shapefile corresponding to your working area (i.e. id_1.shp, id_2.shp, id_3.shp). If you want to have an overview of all the AOIs at once, you can load the shapefile AOIs.shp. Explore the properties of the shapefiles, and under <code>Right clik > Properties > Symbology > Simple fill</code>, change the filling of your shapefile to transparent. Change the color of the border of your shapefile (Stroke color), and if you want, also increase the thickness (Stroke width).</p>\n",
    "    \n",
    "<img src=\"img/img_p3_shapefilesetting.png\" width=\"700\"/>\n",
    "\n",
    "<p>Your workspace should look something like this:</p> \n",
    "\n",
    "<img src=\"img/img_p3_overviewqgis.png\" width=\"700\"/>"
   ]
  },
  {
   "cell_type": "markdown",
   "metadata": {},
   "source": [
    "<h3>Explore RGB and false color compositions</h3>\n",
    "\n",
    "<p>5. In order to be able to apreciate different features on a Sentinel-2 image, you can play around with bands combinations. In order to see an image, you have to assing all the bands of a Rasterstack into one of the three visualizations channels: Red, Green, Blue. Given the fact, that every element or feature from the landscape emits reflectance at different wavelengts, you can change the band for every RGB channel and be able to see these elements in different colors.</p> \n",
    "\n",
    "<img src=\"img/img_p3_s2bands.png\" width=\"700\"/> \n",
    "\n",
    "<p>Right click on S2A_L2A_T32UPU_rasterstack.tif, <code>Properties > Symbology</code>. Choose the following S2 band combination for all the channels:  Red = Band 4, Green = Band 3, Blue = Band 2. If for creating the Rasterstack the Sentinel bands 2, 3, 4, 8 (BLUE, GREEN, RED, NIR) were chosen to fill the 1, 2, 3, 4 positions, can you tell which is the real band combination here chosen? For more information, visit this <a href= \"https://www.sentinel-hub.com/eoproducts/false-color\">source.</a></p> \n",
    "\n",
    "<img src=\"img/img_p3_falsecolor.png\" width=\"700\"/>  "
   ]
  },
  {
   "cell_type": "markdown",
   "metadata": {},
   "source": [
    "<p>6. Which features from the landscape are easier to see with this band combination?</p>"
   ]
  },
  {
   "cell_type": "code",
   "execution_count": null,
   "metadata": {},
   "outputs": [],
   "source": []
  },
  {
   "cell_type": "markdown",
   "metadata": {},
   "source": [
    "<p>7. Now change the visualization to True Color. Use the following bands: R[Band 3], G[Band 2], B[Band 3]. Which Sentinel-2 bands are actually being used here? For more information, visit this <a href= \"https://www.sentinel-hub.com/eoproducts/true-color-1\">source.</a></p> "
   ]
  },
  {
   "cell_type": "markdown",
   "metadata": {},
   "source": [
    "<p>8. Play around with the bands combinations. Which band combination allows you to distinguish urban areas better? Which band combination allows you to recognize healthy vegetation? Why do agricultural plots have differents colors on each band combination?</p>"
   ]
  },
  {
   "cell_type": "markdown",
   "metadata": {},
   "source": [
    "<h3>Create training vectors</h3>\n",
    "\n",
    "<p>Students are divided in 3 groups. Each group works with one AOI subarea. Load the shapefile id_1.shp, id_2.shp, id_3.shp correspondingly. <code>Right click > Zoom to Layer</code> and you will zoom into your working area.</p>\n",
    "\n",
    "<p>Create polygons for every class you see on the image. Click on <code>Layer > Create Layer > New Shapefile Layer</code>. A new window opens and you can define the attributes of the shapefile to create. Define name (for example, training_polygons.shp), geometry type (polygon), check that the CRS is the same as the one from raster file, and add a second attribute on the <code>New Field</code> section. This new attribute is called \"landclass\". Click <code>OK</code>.</p>\n",
    "\n",
    "<img src=\"img/img_p3_attributetable.png\" width=\"400\"/> \n",
    "\n",
    "<p>For a start, create a shapefile for the landclass \"deciduous_forest\". Using the Ortophotos as a source of help, create a polygon that fits into a deciduous forest (Laubwald) area. Activate the shapefile by selecting it and then press <code>Layer > Toggle Editing</code>. After this, the tool <code>Add Polygon Feature</code> gets activated. You can find this tool under <code>Edit > Add Polygon Feature</code>.Create 5-10 polygons for that class. Afterwards, create polygons for the other classes as indicated in the Practice Overview. <b>Save your results by clicking on the <code>Toggle Editing</code> tool.</b></p>\n",
    "\n",
    "<p>Please follow these recomendations: create polygons that cover only one feature at a time. Do not make the polygons very big, since your working area is quite small. Always give the same id and landclass value to the polygon that belongs to the same class.Create the polygons inside of the borders of the shapefile of your AOI id.</p>\n",
    "\n",
    "<img src=\"img/img_p3_createpolygon.png\" width=\"700\" /> \n",
    "<img src=\"img/img_p3_createpolygon2.png\" width=\"700\" /> \n",
    "      \n"
   ]
  },
  {
   "cell_type": "markdown",
   "metadata": {},
   "source": [
    "<div style=\"text-align: right\"> <small>This tutorial was prepared with the support from Gabriel Cevallos. April 2020</small> </div>"
   ]
  }
 ],
 "metadata": {
  "kernelspec": {
   "display_name": "Python 3",
   "language": "python",
   "name": "python3"
  },
  "language_info": {
   "codemirror_mode": {
    "name": "ipython",
    "version": 3
   },
   "file_extension": ".py",
   "mimetype": "text/x-python",
   "name": "python",
   "nbconvert_exporter": "python",
   "pygments_lexer": "ipython3",
   "version": "3.7.1"
  }
 },
 "nbformat": 4,
 "nbformat_minor": 2
}
